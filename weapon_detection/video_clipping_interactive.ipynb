{
 "cells": [
  {
   "cell_type": "code",
   "execution_count": 14,
   "id": "fb05d9f1",
   "metadata": {},
   "outputs": [],
   "source": [
    "import cv2\n",
    "import os\n",
    "import pandas as pd\n",
    "import numpy as np"
   ]
  },
  {
   "cell_type": "code",
   "execution_count": 15,
   "id": "d6ca91fe",
   "metadata": {},
   "outputs": [],
   "source": [
    "def parse_file(path_file):\n",
    "    result = []\n",
    "\n",
    "    with open(path_file, 'r') as f:\n",
    "        for line in f.readlines():\n",
    "            data = line.split('\\n')[0].split(' ')\n",
    "            result.append([int(data[0]), int(data[1]), int(data[2])])\n",
    "            assert result[-1][0] <= result[-1][1], result[-1]\n",
    "            if len(result) > 1:\n",
    "                assert result[-1][0] == result[-2][1], (result[-1], result[-2])\n",
    "    return result"
   ]
  },
  {
   "cell_type": "code",
   "execution_count": 21,
   "id": "8e57918a",
   "metadata": {},
   "outputs": [],
   "source": [
    "MAIN_DIR = './data/6/'\n",
    "VIDEO_PATH = os.path.join(MAIN_DIR, 'video.mp4')\n",
    "LABELS_PATH = os.path.join(MAIN_DIR, 'labels.txt')\n",
    "OUT_PATH = os.path.join(MAIN_DIR, 'img/')\n",
    "DESCRIPTION_PATH = os.path.join(MAIN_DIR, 'description.csv')\n",
    "ANNOTATION_PATH = os.path.join(MAIN_DIR, '_annotation.csv')\n",
    "VIDEO_LABELS_PATH = os.path.join(MAIN_DIR + 'labels.txt')"
   ]
  },
  {
   "cell_type": "code",
   "execution_count": 22,
   "id": "995d4bd2",
   "metadata": {},
   "outputs": [],
   "source": [
    "train_capture = cv2.VideoCapture(VIDEO_PATH)\n",
    "assert train_capture.isOpened()"
   ]
  },
  {
   "cell_type": "code",
   "execution_count": 23,
   "id": "7f24676e",
   "metadata": {},
   "outputs": [
    {
     "name": "stdout",
     "output_type": "stream",
     "text": [
      "FPS: 30, duration: 120\n"
     ]
    }
   ],
   "source": [
    "SECONDS_PER_FRAME = 1\n",
    "FPS = int(train_capture.get(cv2.CAP_PROP_FPS))\n",
    "DURATION = int(train_capture.get(cv2.CAP_PROP_FRAME_COUNT)) // FPS\n",
    "\n",
    "print('FPS: ', FPS, ', duration: ', DURATION, sep='')"
   ]
  },
  {
   "cell_type": "code",
   "execution_count": 24,
   "id": "08b7cea1",
   "metadata": {},
   "outputs": [],
   "source": [
    "cv2.EVENT_FLAG_SHIFTKEY\n",
    "img = np.zeros((512,512,3), np.uint8)\n"
   ]
  },
  {
   "cell_type": "code",
   "execution_count": 25,
   "id": "a9addff3",
   "metadata": {},
   "outputs": [],
   "source": [
    "drawing = False\n",
    "ix,iy = -1,-1\n",
    "frame = None\n",
    "current_class = -1\n",
    "flag = False\n",
    "current_coordinates = np.array([[0,0], [0,0]])\n",
    "row = []\n",
    "\n",
    "def draw_reactangle_with_drag(event, x, y, flags, param):\n",
    "    global ix, iy, drawing, frame, current_class, current_coordinates\n",
    "    if event == cv2.EVENT_LBUTTONDOWN:\n",
    "        drawing = True\n",
    "        ix = x\n",
    "        iy = y\n",
    "\n",
    "\n",
    "    elif event == cv2.EVENT_MOUSEMOVE:\n",
    "        if drawing == True:\n",
    "            train_capture.set(cv2.CAP_PROP_POS_MSEC, current_video_position * 1000)\n",
    "            _, img_tmp = train_capture.read()\n",
    "            cv2.rectangle(img_tmp, pt1=(ix,iy), pt2=(x, y),color=(0,255,0),thickness=4)\n",
    "            frame = img_tmp\n",
    "\n",
    "    elif event == cv2.EVENT_LBUTTONUP:\n",
    "        drawing = False\n",
    "        train_capture.set(cv2.CAP_PROP_POS_MSEC, current_video_position * 1000)\n",
    "        _, img_tmp = train_capture.read()\n",
    "        cv2.rectangle(img_tmp, pt1=(ix,iy), pt2=(x, y),color=(0,255,0),thickness=4)\n",
    "        current_coordinates = np.array([[ix,iy], [x,y]])\n",
    "        current_class = 1\n",
    "        frame = img_tmp\n",
    "    elif event == cv2.EVENT_FLAG_RBUTTON:\n",
    "        current_class = 0\n",
    "        current_coordinates = np.array([[0,0], [0,0]])"
   ]
  },
  {
   "cell_type": "code",
   "execution_count": 26,
   "id": "a55635a1",
   "metadata": {},
   "outputs": [],
   "source": [
    "previous_class = None\n",
    "current_start = 0\n",
    "current_picture_idx = 1\n",
    "video_labels = []\n",
    "image_labels = {}\n",
    "\n",
    "for current_video_position in range(0, DURATION + SECONDS_PER_FRAME, SECONDS_PER_FRAME):\n",
    "    train_capture.set(cv2.CAP_PROP_POS_MSEC, current_video_position * 1000)\n",
    "    ret, frame = train_capture.read()\n",
    "    if not ret:\n",
    "        print('End of stream')\n",
    "        break\n",
    "    cv2.namedWindow('Frame')\n",
    "    cv2.setMouseCallback('Frame',draw_reactangle_with_drag)\n",
    "    image_name = str(current_picture_idx) + '.jpg'\n",
    "    cv2.imwrite(os.path.join(OUT_PATH, image_name), frame)\n",
    "    while(current_class == -1):\n",
    "        cv2.imshow('Frame',frame)\n",
    "        k = cv2.waitKey(1) & 0xFF    \n",
    "    image_labels[image_name] = current_class\n",
    "    if previous_class is None:\n",
    "        previous_class = current_class\n",
    "        current_start = 0\n",
    "    elif previous_class != current_class:\n",
    "        video_labels.append([current_start, current_video_position, previous_class])\n",
    "        current_start = current_video_position\n",
    "    row.append({'file': image_name, 'width': w, 'height': h,'class': current_class, \n",
    "                'xmin': np.min(current_coordinates[:,0]), 'ymin': np.min(current_coordinates[:,1]),\n",
    "                'xmax': np.max(current_coordinates[:,0]), 'ymax': np.max(current_coordinates[:,1])})\n",
    "    previous_class = current_class\n",
    "    current_picture_idx += 1\n",
    "    current_class = -1\n",
    "\n",
    "        \n",
    "video_labels.append([current_start, DURATION, previous_class])\n",
    "\n",
    "train_capture.release()\n",
    "cv2.destroyAllWindows()"
   ]
  },
  {
   "cell_type": "code",
   "execution_count": 13,
   "id": "d499cba8",
   "metadata": {},
   "outputs": [],
   "source": [
    "pd.Series(image_labels).to_csv(DESCRIPTION_PATH, header=['class_id'], index_label='image_name')\n",
    "pd.DataFrame(video_labels).set_index(0).to_csv(VIDEO_LABELS_PATH, sep=' ', header=False)\n",
    "pd.DataFrame(row).set_index('file').to_csv(ANNOTATION_PATH)"
   ]
  },
  {
   "cell_type": "code",
   "execution_count": 15,
   "id": "9a857e9d",
   "metadata": {},
   "outputs": [
    {
     "data": {
      "text/plain": [
       "439"
      ]
     },
     "execution_count": 15,
     "metadata": {},
     "output_type": "execute_result"
    }
   ],
   "source": []
  },
  {
   "cell_type": "code",
   "execution_count": null,
   "id": "9a1a9d87",
   "metadata": {},
   "outputs": [],
   "source": []
  }
 ],
 "metadata": {
  "kernelspec": {
   "display_name": "Python 3 (ipykernel)",
   "language": "python",
   "name": "python3"
  },
  "language_info": {
   "codemirror_mode": {
    "name": "ipython",
    "version": 3
   },
   "file_extension": ".py",
   "mimetype": "text/x-python",
   "name": "python",
   "nbconvert_exporter": "python",
   "pygments_lexer": "ipython3",
   "version": "3.9.2"
  }
 },
 "nbformat": 4,
 "nbformat_minor": 5
}
